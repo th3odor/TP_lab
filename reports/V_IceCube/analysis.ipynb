{
 "cells": [
  {
   "cell_type": "code",
   "execution_count": 87,
   "metadata": {},
   "outputs": [],
   "source": [
    "import matplotlib.pyplot as plt\n",
    "import numpy as np\n",
    "import pandas as pd\n",
    "import seaborn as sn\n",
    "import uncertainties as un\n",
    "import mrmr\n",
    "from sklearn.preprocessing import StandardScaler\n",
    "\n",
    "from sklearn.ensemble import RandomForestClassifier\n",
    "from sklearn.naive_bayes import GaussianNB\n",
    "from sklearn.neural_network import MLPClassifier\n",
    "from sklearn.model_selection import train_test_split\n",
    "from sklearn.model_selection import cross_validate\n",
    "from sklearn.model_selection import KFold\n",
    "from sklearn.metrics import accuracy_score\n",
    "from sklearn.metrics import precision_score\n",
    "from sklearn.metrics import roc_curve\n",
    "from sklearn.metrics import roc_auc_score\n",
    "from sklearn.metrics import confusion_matrix"
   ]
  },
  {
   "cell_type": "code",
   "execution_count": 88,
   "metadata": {},
   "outputs": [],
   "source": [
    "signal = pd.read_csv('data_local/signal_train.csv', sep=',')\n",
    "background = pd.read_csv('data_local/background_train.csv', sep=',')"
   ]
  },
  {
   "cell_type": "markdown",
   "metadata": {},
   "source": [
    "## Preprocessing"
   ]
  },
  {
   "cell_type": "code",
   "execution_count": 89,
   "metadata": {},
   "outputs": [],
   "source": [
    "df = pd.concat((signal, background))\n",
    "\n",
    "for feature in df.columns.values: ## remove MC truths\n",
    "    if \"Weight\" in feature:\n",
    "        df.drop(columns=[feature], inplace=True)\n",
    "    elif \"MC\" in feature:\n",
    "        df.drop(columns=[feature], inplace=True)\n",
    "    elif \"Corsika\" in feature: \n",
    "        df.drop(columns=[feature], inplace=True)\n",
    "    elif \"I3EventHeader\" in feature:\n",
    "        df.drop(columns=[feature], inplace=True)\n",
    "\n",
    "df.replace({np.inf: np.nan, -np.inf: np.nan}, value=None, inplace=True) # inf to nan\n",
    "for feauture in df.columns.values: \n",
    "    if df[feauture].isna().sum() > 0.1*len(df[feauture]): # drop columns with many nans\n",
    "        df.drop(columns=[feauture], inplace=True)\n",
    "df.dropna(axis=0, how=\"any\", inplace=True) # drop any rows left with nans\n",
    "\n",
    "label = df[\"label\"]\n",
    "df.drop(columns=[\"label\"], inplace=True)\n",
    "keys = df.columns.values\n",
    "\n",
    "scaler = StandardScaler() # rescale the data\n",
    "X = scaler.fit_transform(df)\n",
    "df = pd.DataFrame(X, columns=keys)"
   ]
  },
  {
   "cell_type": "markdown",
   "metadata": {},
   "source": [
    "## Feauture selection"
   ]
  },
  {
   "cell_type": "code",
   "execution_count": 90,
   "metadata": {},
   "outputs": [
    {
     "name": "stderr",
     "output_type": "stream",
     "text": [
      "100%|██████████| 100/100 [00:15<00:00,  6.32it/s]\n"
     ]
    }
   ],
   "source": [
    "feautures_class = mrmr.mrmr_classif(X=df, y=label, K=100) ## determine the best 140 features in order  "
   ]
  },
  {
   "cell_type": "markdown",
   "metadata": {},
   "source": [
    "## Model training"
   ]
  },
  {
   "cell_type": "code",
   "execution_count": 91,
   "metadata": {},
   "outputs": [],
   "source": [
    "def num_features(model, model_name):\n",
    "    \n",
    "    n_feat = [5,10,20,30,40,50,60,70,80,90,100]\n",
    "\n",
    "    accuracy = []\n",
    "    precision = []\n",
    "    roc_auc = []\n",
    "\n",
    "    print(f\"{model_name}:\")\n",
    "    for n in n_feat:\n",
    "        X = df[feautures_class[:n]]\n",
    "        X_train, X_test, y_train, y_test = train_test_split(X, label, test_size = 0.5, random_state = 69)\n",
    "        model.fit(X_train, y_train)\n",
    "        y_predict = model.predict(X_test)\n",
    "\n",
    "        accuracy.append( accuracy_score(y_test, y_predict) )\n",
    "        precision.append( precision_score(y_test, y_predict) )\n",
    "        roc_auc.append( roc_auc_score(y_test, y_predict) )\n",
    "        print(f\"Tried {n} features\")\n",
    "\n",
    "    plt.figure(figsize=(12,4))\n",
    "    plt.subplot(1,3,1)\n",
    "    plt.scatter(n_feat ,accuracy)\n",
    "    plt.xlabel(\"Num features\")\n",
    "    plt.ylabel(\"Accuracy\")\n",
    "    plt.subplot(1,3,2)\n",
    "    plt.scatter(n_feat, precision)\n",
    "    plt.xlabel(\"Num features\")\n",
    "    plt.ylabel(\"Precision\")\n",
    "    plt.subplot(1,3,3)\n",
    "    plt.scatter(n_feat, roc_auc)\n",
    "    plt.xlabel(\"Num features\")\n",
    "    plt.ylabel(\"ROC Score\")\n",
    "    plt.tight_layout()\n",
    "    plt.savefig(f\"build/{model_name}_features.pdf\")\n",
    "    plt.close()\n",
    "\n",
    "def model_eval(model, model_name, n_feautures):\n",
    "    X = df[feautures_class[:n_feautures]] ## take n feautures only\n",
    "    kfold = KFold(n_splits=5, shuffle=True) ## kfolding with shuffling\n",
    "    cv_result = cross_validate(model, X, label, scoring=[\"accuracy\", \"precision\", \"roc_auc\"], cv = kfold, return_estimator=True)\n",
    "    print(f\"{model_name} Cross validation result:\")\n",
    "    print(f\"Accuracy: {un.ufloat(np.mean(cv_result['test_accuracy']),np.std(cv_result['test_accuracy']))}\")\n",
    "    print(f\"Precision: {un.ufloat(np.mean(cv_result['test_precision']),np.std(cv_result['test_precision']))}\")\n",
    "    print(f\"ROC: {un.ufloat(np.mean(cv_result['test_roc_auc']),np.std(cv_result['test_roc_auc']))}\")\n",
    "\n",
    "    model_fitted = cv_result[\"estimator\"][0] ## use one of the fitted models\n",
    "    y_predict = model_fitted.predict(X)\n",
    "    c_mat = confusion_matrix(label, y_predict)\n",
    "    sn.heatmap(c_mat, annot=True, cmap = \"Blues\", fmt='g')\n",
    "    plt.tight_layout()\n",
    "    plt.savefig(f'build/{model_name}_confusion.pdf')\n",
    "    plt.close()\n",
    "\n",
    "    y_predict_proba = model_fitted.predict_proba(X)\n",
    "    FP, TP, decision = roc_curve(label, y_predict_proba[:,1], pos_label=1)\n",
    "    return model_fitted ,FP,TP"
   ]
  },
  {
   "cell_type": "markdown",
   "metadata": {},
   "source": [
    "## Naive Bayes"
   ]
  },
  {
   "cell_type": "code",
   "execution_count": 92,
   "metadata": {},
   "outputs": [
    {
     "name": "stdout",
     "output_type": "stream",
     "text": [
      "Naive Bayes:\n",
      "Tried 5 features\n",
      "Tried 10 features\n",
      "Tried 20 features\n",
      "Tried 30 features\n",
      "Tried 40 features\n",
      "Tried 50 features\n",
      "Tried 60 features\n",
      "Tried 70 features\n",
      "Tried 80 features\n",
      "Tried 90 features\n",
      "Tried 100 features\n"
     ]
    }
   ],
   "source": [
    "num_features(GaussianNB(), \"Naive Bayes\")"
   ]
  },
  {
   "cell_type": "code",
   "execution_count": 93,
   "metadata": {},
   "outputs": [
    {
     "name": "stdout",
     "output_type": "stream",
     "text": [
      "Naive Bayes Cross validation result:\n",
      "Accuracy: 0.843+/-0.004\n",
      "Precision: 0.908+/-0.004\n",
      "ROC: 0.928+/-0.004\n"
     ]
    }
   ],
   "source": [
    "NB, FP_NB, TP_NB = model_eval(GaussianNB(), \"Naive Bayes\", 5)"
   ]
  },
  {
   "cell_type": "markdown",
   "metadata": {},
   "source": [
    "## Random Forest"
   ]
  },
  {
   "cell_type": "code",
   "execution_count": 94,
   "metadata": {},
   "outputs": [
    {
     "name": "stdout",
     "output_type": "stream",
     "text": [
      "Random Forest:\n",
      "Tried 5 features\n",
      "Tried 10 features\n",
      "Tried 20 features\n",
      "Tried 30 features\n",
      "Tried 40 features\n",
      "Tried 50 features\n",
      "Tried 60 features\n",
      "Tried 70 features\n",
      "Tried 80 features\n",
      "Tried 90 features\n",
      "Tried 100 features\n"
     ]
    }
   ],
   "source": [
    "num_features(RandomForestClassifier(10, max_depth=10), \"Random Forest\")"
   ]
  },
  {
   "cell_type": "code",
   "execution_count": 95,
   "metadata": {},
   "outputs": [
    {
     "name": "stdout",
     "output_type": "stream",
     "text": [
      "Random Forest Cross validation result:\n",
      "Accuracy: 0.9659+/-0.0021\n",
      "Precision: 0.9771+/-0.0015\n",
      "ROC: 0.9930+/-0.0007\n"
     ]
    }
   ],
   "source": [
    "RF, FP_RF, TP_RF = model_eval(RandomForestClassifier(10, max_depth=10), \"Random Forest\", 60)"
   ]
  },
  {
   "cell_type": "markdown",
   "metadata": {},
   "source": [
    "## Neural Network"
   ]
  },
  {
   "cell_type": "code",
   "execution_count": 96,
   "metadata": {},
   "outputs": [
    {
     "name": "stdout",
     "output_type": "stream",
     "text": [
      "Neural Network:\n",
      "Tried 5 features\n",
      "Tried 10 features\n",
      "Tried 20 features\n",
      "Tried 30 features\n",
      "Tried 40 features\n",
      "Tried 50 features\n",
      "Tried 60 features\n",
      "Tried 70 features\n",
      "Tried 80 features\n",
      "Tried 90 features\n",
      "Tried 100 features\n"
     ]
    }
   ],
   "source": [
    "num_features(MLPClassifier(5), \"Neural Network\")"
   ]
  },
  {
   "cell_type": "code",
   "execution_count": 97,
   "metadata": {},
   "outputs": [
    {
     "name": "stdout",
     "output_type": "stream",
     "text": [
      "Neural Network Cross validation result:\n",
      "Accuracy: 0.957+/-0.004\n",
      "Precision: 0.964+/-0.005\n",
      "ROC: 0.9915+/-0.0014\n"
     ]
    }
   ],
   "source": [
    "NN, FP_NN, TP_NN = model_eval(MLPClassifier(5), \"Neural Network\", 50)"
   ]
  },
  {
   "cell_type": "markdown",
   "metadata": {},
   "source": [
    "## Comparing Classifiers"
   ]
  },
  {
   "cell_type": "code",
   "execution_count": 100,
   "metadata": {},
   "outputs": [
    {
     "data": {
      "image/png": "[encoded data removed]",
      "text/plain": [
       "<Figure size 640x480 with 1 Axes>"
      ]
     },
     "metadata": {},
     "output_type": "display_data"
    }
   ],
   "source": [
    "plt.plot(FP_NB, TP_NB, label = \"Naive Bayes\")\n",
    "plt.plot(FP_RF, TP_RF, label = \"Random Forest\")\n",
    "plt.plot(FP_NN, TP_NN, label = \"Neural Network\")\n",
    "plt.xlabel(\"False positive rate\")\n",
    "plt.ylabel(\"True positive rate\")\n",
    "plt.legend()\n",
    "plt.tight_layout()\n",
    "plt.savefig(\"build/roc_curves.pdf\")"
   ]
  },
  {
   "cell_type": "markdown",
   "metadata": {},
   "source": [
    "## Predicting on test data"
   ]
  },
  {
   "cell_type": "code",
   "execution_count": 104,
   "metadata": {},
   "outputs": [
    {
     "name": "stdout",
     "output_type": "stream",
     "text": [
      "Found 2045 signal events.\n",
      "Remaining 1955 events are background.\n"
     ]
    },
    {
     "data": {
      "text/html": [
       "<div>\n",
       "<style scoped>\n",
       "    .dataframe tbody tr th:only-of-type {\n",
       "        vertical-align: middle;\n",
       "    }\n",
       "\n",
       "    .dataframe tbody tr th {\n",
       "        vertical-align: top;\n",
       "    }\n",
       "\n",
       "    .dataframe thead th {\n",
       "        text-align: right;\n",
       "    }\n",
       "</style>\n",
       "<table border=\"1\" class=\"dataframe\">\n",
       "  <thead>\n",
       "    <tr style=\"text-align: right;\">\n",
       "      <th></th>\n",
       "      <th>label</th>\n",
       "    </tr>\n",
       "  </thead>\n",
       "  <tbody>\n",
       "    <tr>\n",
       "      <th>0</th>\n",
       "      <td>1</td>\n",
       "    </tr>\n",
       "    <tr>\n",
       "      <th>1</th>\n",
       "      <td>0</td>\n",
       "    </tr>\n",
       "    <tr>\n",
       "      <th>2</th>\n",
       "      <td>0</td>\n",
       "    </tr>\n",
       "    <tr>\n",
       "      <th>3</th>\n",
       "      <td>0</td>\n",
       "    </tr>\n",
       "    <tr>\n",
       "      <th>4</th>\n",
       "      <td>0</td>\n",
       "    </tr>\n",
       "    <tr>\n",
       "      <th>...</th>\n",
       "      <td>...</td>\n",
       "    </tr>\n",
       "    <tr>\n",
       "      <th>3995</th>\n",
       "      <td>0</td>\n",
       "    </tr>\n",
       "    <tr>\n",
       "      <th>3996</th>\n",
       "      <td>1</td>\n",
       "    </tr>\n",
       "    <tr>\n",
       "      <th>3997</th>\n",
       "      <td>0</td>\n",
       "    </tr>\n",
       "    <tr>\n",
       "      <th>3998</th>\n",
       "      <td>0</td>\n",
       "    </tr>\n",
       "    <tr>\n",
       "      <th>3999</th>\n",
       "      <td>0</td>\n",
       "    </tr>\n",
       "  </tbody>\n",
       "</table>\n",
       "<p>4000 rows × 1 columns</p>\n",
       "</div>"
      ],
      "text/plain": [
       "      label\n",
       "0         1\n",
       "1         0\n",
       "2         0\n",
       "3         0\n",
       "4         0\n",
       "...     ...\n",
       "3995      0\n",
       "3996      1\n",
       "3997      0\n",
       "3998      0\n",
       "3999      0\n",
       "\n",
       "[4000 rows x 1 columns]"
      ]
     },
     "execution_count": 104,
     "metadata": {},
     "output_type": "execute_result"
    }
   ],
   "source": [
    "## Random forest performes the best so lets use it\n",
    "n=60\n",
    "test = pd.read_csv('data_local/test.csv', sep=',')\n",
    "X = test[keys]\n",
    "X = scaler.transform(X)\n",
    "X = pd.DataFrame(X, columns=keys)\n",
    "X = X[feautures_class[:n]]\n",
    "X.replace(to_replace=np.nan, value=0, inplace=True) # stoopid nan\n",
    "labels_predicted = RF.predict(X)\n",
    "print(f\"Found {np.sum(labels_predicted)} signal events.\")\n",
    "print(f\"Remaining {len(labels_predicted)-np.sum(labels_predicted)} events are background.\")\n",
    "result = pd.DataFrame(labels_predicted, columns=[\"label\"])\n",
    "result.to_csv(\"build/result.csv\")\n",
    "result"
   ]
  },
  {
   "cell_type": "markdown",
   "metadata": {},
   "source": [
    "Jorking"
   ]
  }
 ],
 "metadata": {
  "kernelspec": {
   "display_name": "ml",
   "language": "python",
   "name": "python3"
  },
  "language_info": {
   "codemirror_mode": {
    "name": "ipython",
    "version": 3
   },
   "file_extension": ".py",
   "mimetype": "text/x-python",
   "name": "python",
   "nbconvert_exporter": "python",
   "pygments_lexer": "ipython3",
   "version": "3.10.6"
  }
 },
 "nbformat": 4,
 "nbformat_minor": 2
}
